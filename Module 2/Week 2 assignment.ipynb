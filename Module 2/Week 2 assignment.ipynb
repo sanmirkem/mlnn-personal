{
 "cells": [
  {
   "cell_type": "code",
   "execution_count": 89,
   "metadata": {},
   "outputs": [],
   "source": [
    "import numpy as np\n",
    "import pandas as pd\n",
    "import scipy as sp"
   ]
  },
  {
   "cell_type": "code",
   "execution_count": null,
   "metadata": {},
   "outputs": [],
   "source": [
    "%matplotlib inline\n",
    "import matplotlib.pyplot as plt\n",
    "plt.style.use('ggplot')"
   ]
  },
  {
   "cell_type": "code",
   "execution_count": 135,
   "metadata": {},
   "outputs": [
    {
     "name": "stdout",
     "output_type": "stream",
     "text": [
      "Overwriting hw_data.csv\n"
     ]
    }
   ],
   "source": [
    "%%file hw_data.csv\n",
    "id,sex,weight,height\n",
    "1,M,190,77\n",
    "2,F,120,70\n",
    "3,F,110,68\n",
    "4,M,150,72\n",
    "5,O,120,66\n",
    "6,M,120,60\n",
    "7,F,140,70"
   ]
  },
  {
   "cell_type": "markdown",
   "metadata": {},
   "source": [
    "# Python"
   ]
  },
  {
   "cell_type": "markdown",
   "metadata": {},
   "source": [
    "## 1. Finish creating the following function that takes a list and returns the average value.\n",
    "\n",
    "Add each element in the list to `total` and return `total`\n",
    "\n",
    "### DO NOT use a library function nor `sum()`"
   ]
  },
  {
   "cell_type": "code",
   "execution_count": 219,
   "metadata": {},
   "outputs": [
    {
     "data": {
      "text/plain": [
       "3.375"
      ]
     },
     "execution_count": 219,
     "metadata": {},
     "output_type": "execute_result"
    }
   ],
   "source": [
    "def average(average_list):\n",
    "    total = 0\n",
    "    for item in average_list:\n",
    "        # print(f\"before: {item=}, {total=}\")\n",
    "        total = total + item\n",
    "       # print(f\"after: {total=}\\n\")\n",
    "        \n",
    "    total = total/len(average_list)\n",
    "    return total\n",
    "\n",
    "\n",
    "\n",
    "average([1,2,1,4,3,2,5,9])"
   ]
  },
  {
   "cell_type": "markdown",
   "metadata": {},
   "source": [
    "## 2. Using a Dictionary keep track of the count of numbers (or items) from a list"
   ]
  },
  {
   "cell_type": "code",
   "execution_count": 220,
   "metadata": {},
   "outputs": [
    {
     "data": {
      "text/plain": [
       "{1: 2, 2: 2, 4: 1, 3: 1, 5: 1, 9: 1}"
      ]
     },
     "execution_count": 220,
     "metadata": {},
     "output_type": "execute_result"
    }
   ],
   "source": [
    "def counts(my_list):\n",
    "    counts = dict()\n",
    "    for item in my_list:\n",
    "        \n",
    "        counts[item] = my_list.count(item)\n",
    "    \n",
    "    return counts\n",
    "\n",
    "counts([1,2,1,4,3,2,5,9])"
   ]
  },
  {
   "cell_type": "markdown",
   "metadata": {},
   "source": [
    "## 3.  Using the `counts()` function you created above and the `.split()` function, return a dictionary of most occuring words from the following paragraph. Bonus, remove punctuation from words."
   ]
  },
  {
   "cell_type": "code",
   "execution_count": 221,
   "metadata": {},
   "outputs": [
    {
     "data": {
      "text/plain": [
       "{'For': 1,\n",
       " 'a': 15,\n",
       " 'minute': 1,\n",
       " 'or': 2,\n",
       " 'two': 2,\n",
       " 'she': 6,\n",
       " 'stood': 1,\n",
       " 'looking': 2,\n",
       " 'at': 6,\n",
       " 'the': 32,\n",
       " 'house,': 1,\n",
       " 'and': 16,\n",
       " 'wondering': 1,\n",
       " 'what': 2,\n",
       " 'to': 15,\n",
       " 'do': 1,\n",
       " 'next,': 1,\n",
       " 'when': 2,\n",
       " 'suddenly': 1,\n",
       " 'footman': 3,\n",
       " 'in': 7,\n",
       " 'livery': 1,\n",
       " 'came': 2,\n",
       " 'running': 1,\n",
       " 'out': 3,\n",
       " 'of': 9,\n",
       " 'wood—(she': 1,\n",
       " 'considered': 1,\n",
       " 'him': 2,\n",
       " 'be': 2,\n",
       " 'because': 3,\n",
       " 'he': 5,\n",
       " 'was': 8,\n",
       " 'livery:': 1,\n",
       " 'otherwise,': 1,\n",
       " 'judging': 1,\n",
       " 'by': 3,\n",
       " 'his': 5,\n",
       " 'face': 1,\n",
       " 'only,': 1,\n",
       " 'would': 1,\n",
       " 'have': 1,\n",
       " 'called': 1,\n",
       " 'fish)—and': 1,\n",
       " 'rapped': 1,\n",
       " 'loudly': 1,\n",
       " 'door': 4,\n",
       " 'with': 2,\n",
       " 'knuckles': 0,\n",
       " 'It': 1,\n",
       " 'opened': 1,\n",
       " 'another': 1,\n",
       " 'livery,': 1,\n",
       " 'round': 1,\n",
       " 'face,': 1,\n",
       " 'large': 3,\n",
       " 'eyes': 2,\n",
       " 'like': 1,\n",
       " 'frog;': 1,\n",
       " 'both': 2,\n",
       " 'footmen,': 1,\n",
       " 'Alice': 2,\n",
       " 'noticed,': 1,\n",
       " 'had': 4,\n",
       " 'powdered': 1,\n",
       " 'hair': 1,\n",
       " 'that': 3,\n",
       " 'curled': 1,\n",
       " 'all': 3,\n",
       " 'over': 2,\n",
       " 'their': 3,\n",
       " 'heads': 0,\n",
       " 'She': 1,\n",
       " 'felt': 1,\n",
       " 'very': 2,\n",
       " 'curious': 1,\n",
       " 'know': 1,\n",
       " 'it': 2,\n",
       " 'about,': 1,\n",
       " 'crept': 1,\n",
       " 'little': 1,\n",
       " 'way': 1,\n",
       " 'wood': 2,\n",
       " 'listenThe': 0,\n",
       " 'Fish-Footman': 2,\n",
       " 'began': 1,\n",
       " 'producing': 1,\n",
       " 'from': 2,\n",
       " 'under': 1,\n",
       " 'arm': 1,\n",
       " 'great': 2,\n",
       " 'letter,': 1,\n",
       " 'nearly': 2,\n",
       " 'as': 4,\n",
       " 'himself,': 1,\n",
       " 'this': 3,\n",
       " 'handed': 1,\n",
       " 'other,': 1,\n",
       " 'saying,': 1,\n",
       " 'solemn': 2,\n",
       " 'tone,': 2,\n",
       " '‘For': 1,\n",
       " 'Duchess': 1,\n",
       " 'An': 2,\n",
       " 'invitation': 2,\n",
       " 'Queen': 1,\n",
       " 'play': 2,\n",
       " 'croquet’': 0,\n",
       " 'The': 1,\n",
       " 'Frog-Footman': 1,\n",
       " 'repeated,': 2,\n",
       " 'same': 2,\n",
       " 'only': 1,\n",
       " 'changing': 1,\n",
       " 'order': 1,\n",
       " 'words': 1,\n",
       " 'little,': 1,\n",
       " '‘From': 1,\n",
       " 'for': 3,\n",
       " 'croquet’Then': 0,\n",
       " 'they': 1,\n",
       " 'bowed': 1,\n",
       " 'low,': 1,\n",
       " 'curls': 1,\n",
       " 'got': 1,\n",
       " 'entangled': 1,\n",
       " 'togetherAlice': 0,\n",
       " 'laughed': 1,\n",
       " 'so': 2,\n",
       " 'much': 1,\n",
       " 'this,': 1,\n",
       " 'run': 1,\n",
       " 'back': 1,\n",
       " 'into': 3,\n",
       " 'fear': 1,\n",
       " 'hearing': 1,\n",
       " 'her;': 1,\n",
       " 'next': 1,\n",
       " 'peeped': 1,\n",
       " 'gone,': 1,\n",
       " 'other': 1,\n",
       " 'sitting': 1,\n",
       " 'on': 4,\n",
       " 'ground': 1,\n",
       " 'near': 1,\n",
       " 'door,': 2,\n",
       " 'staring': 1,\n",
       " 'stupidly': 1,\n",
       " 'up': 3,\n",
       " 'skyAlice': 0,\n",
       " 'went': 2,\n",
       " 'timidly': 1,\n",
       " 'knocked‘There’s': 0,\n",
       " 'no': 2,\n",
       " 'sort': 1,\n",
       " 'use': 1,\n",
       " 'knocking,’': 2,\n",
       " 'said': 3,\n",
       " 'Footman,': 1,\n",
       " '‘and': 1,\n",
       " 'reasons': 0,\n",
       " 'First,': 1,\n",
       " 'I’m': 1,\n",
       " 'side': 1,\n",
       " 'you': 5,\n",
       " 'are;': 1,\n",
       " 'secondly,': 1,\n",
       " 'they’re': 1,\n",
       " 'making': 1,\n",
       " 'such': 1,\n",
       " 'noise': 2,\n",
       " 'inside,': 2,\n",
       " 'one': 2,\n",
       " 'could': 2,\n",
       " 'possibly': 1,\n",
       " 'hear': 1,\n",
       " 'you’': 0,\n",
       " 'And': 1,\n",
       " 'certainly': 1,\n",
       " 'there': 1,\n",
       " 'most': 1,\n",
       " 'extraordinary': 1,\n",
       " 'going': 1,\n",
       " 'within—a': 1,\n",
       " 'constant': 1,\n",
       " 'howling': 1,\n",
       " 'sneezing,': 1,\n",
       " 'every': 1,\n",
       " 'now': 1,\n",
       " 'then': 1,\n",
       " 'crash,': 1,\n",
       " 'if': 2,\n",
       " 'dish': 1,\n",
       " 'kettle': 1,\n",
       " 'been': 1,\n",
       " 'broken': 1,\n",
       " 'pieces‘Please,': 0,\n",
       " 'then,’': 1,\n",
       " 'Alice,': 1,\n",
       " '‘how': 1,\n",
       " 'am': 2,\n",
       " 'I': 3,\n",
       " 'get': 2,\n",
       " 'in’‘There': 0,\n",
       " 'might': 3,\n",
       " 'some': 1,\n",
       " 'sense': 1,\n",
       " 'your': 1,\n",
       " 'Footman': 2,\n",
       " 'without': 1,\n",
       " 'attending': 1,\n",
       " 'her,': 1,\n",
       " '‘if': 1,\n",
       " 'we': 1,\n",
       " 'between': 1,\n",
       " 'us': 0,\n",
       " 'instance,': 1,\n",
       " 'were': 1,\n",
       " 'knock,': 1,\n",
       " 'let': 1,\n",
       " 'out,': 2,\n",
       " 'know’': 0,\n",
       " 'He': 1,\n",
       " 'sky': 1,\n",
       " 'time': 1,\n",
       " 'speaking,': 1,\n",
       " 'thought': 1,\n",
       " 'decidedly': 1,\n",
       " 'uncivil': 0,\n",
       " '‘But': 1,\n",
       " 'perhaps': 1,\n",
       " 'can’t': 1,\n",
       " 'help': 1,\n",
       " 'it,’': 1,\n",
       " 'herself;': 1,\n",
       " '‘his': 1,\n",
       " 'are': 1,\n",
       " 'top': 1,\n",
       " 'head': 0,\n",
       " 'But': 1,\n",
       " 'any': 1,\n",
       " 'rate': 1,\n",
       " 'answer': 1,\n",
       " 'questions—How': 0,\n",
       " 'in’': 0,\n",
       " 'aloud‘I': 0,\n",
       " 'shall': 1,\n",
       " 'sit': 1,\n",
       " 'here,’': 1,\n",
       " 'remarked,': 1,\n",
       " '‘till': 1,\n",
       " 'tomorrow—’At': 0,\n",
       " 'moment': 1,\n",
       " 'house': 1,\n",
       " 'opened,': 1,\n",
       " 'plate': 1,\n",
       " 'skimming': 1,\n",
       " 'straight': 1,\n",
       " 'Footman’s': 1,\n",
       " 'head:': 1,\n",
       " 'just': 1,\n",
       " 'grazed': 1,\n",
       " 'nose,': 1,\n",
       " 'broke': 1,\n",
       " 'pieces': 1,\n",
       " 'against': 1,\n",
       " 'trees': 1,\n",
       " 'behind': 1}"
      ]
     },
     "execution_count": 221,
     "metadata": {},
     "output_type": "execute_result"
    }
   ],
   "source": [
    "paragraph_text = '''\n",
    "For a minute or two she stood looking at the house, and wondering what to do next, when suddenly a footman in livery came running out of the wood—(she considered him to be a footman because he was in livery: otherwise, judging by his face only, she would have called him a fish)—and rapped loudly at the door with his knuckles. It was opened by another footman in livery, with a round face, and large eyes like a frog; and both footmen, Alice noticed, had powdered hair that curled all over their heads. She felt very curious to know what it was all about, and crept a little way out of the wood to listen.\n",
    "The Fish-Footman began by producing from under his arm a great letter, nearly as large as himself, and this he handed over to the other, saying, in a solemn tone, ‘For the Duchess. An invitation from the Queen to play croquet.’ The Frog-Footman repeated, in the same solemn tone, only changing the order of the words a little, ‘From the Queen. An invitation for the Duchess to play croquet.’\n",
    "Then they both bowed low, and their curls got entangled together.\n",
    "Alice laughed so much at this, that she had to run back into the wood for fear of their hearing her; and when she next peeped out the Fish-Footman was gone, and the other was sitting on the ground near the door, staring stupidly up into the sky.\n",
    "Alice went timidly up to the door, and knocked.\n",
    "‘There’s no sort of use in knocking,’ said the Footman, ‘and that for two reasons. First, because I’m on the same side of the door as you are; secondly, because they’re making such a noise inside, no one could possibly hear you.’ And certainly there was a most extraordinary noise going on within—a constant howling and sneezing, and every now and then a great crash, as if a dish or kettle had been broken to pieces.\n",
    "‘Please, then,’ said Alice, ‘how am I to get in?’\n",
    "‘There might be some sense in your knocking,’ the Footman went on without attending to her, ‘if we had the door between us. For instance, if you were inside, you might knock, and I could let you out, you know.’ He was looking up into the sky all the time he was speaking, and this Alice thought decidedly uncivil. ‘But perhaps he can’t help it,’ she said to herself; ‘his eyes are so very nearly at the top of his head. But at any rate he might answer questions.—How am I to get in?’ she repeated, aloud.\n",
    "‘I shall sit here,’ the Footman remarked, ‘till tomorrow—’\n",
    "At this moment the door of the house opened, and a large plate came skimming out, straight at the Footman’s head: it just grazed his nose, and broke to pieces against one of the trees behind him.'''\n",
    "\n",
    "\n",
    "occurrences = paragraph_text.split(\" \")\n",
    "counts(occurrences)\n",
    "\n",
    "def counts(my_list):\n",
    "    counts = dict()\n",
    "    for item in my_list:\n",
    "        item = item.replace(\".\", \"\")\n",
    "        item = item.replace(\".\", \"\")\n",
    "        item = item.replace(\"\\n\", \"\")\n",
    "        item = item.replace(\"?\", \"\")\n",
    "        item = item.replace(\" '\", \"\")\n",
    "        item = item.replace(\"'' \", \"\")\n",
    "        \n",
    "        counts[item] = my_list.count(item)\n",
    "    \n",
    "    return counts\n",
    "\n",
    "counts(occurrences)    "
   ]
  },
  {
   "cell_type": "markdown",
   "metadata": {},
   "source": [
    "## 4. Read in a file using `open()` and iterated through the file line-by-line write each line from the file to a new file in a  `title()`-ized. Create your own file for input\n",
    "\n",
    "`This is the first line` ->  `This Is The First Line`\n",
    "\n",
    "Hint: There's a function to do this"
   ]
  },
  {
   "cell_type": "code",
   "execution_count": 215,
   "metadata": {},
   "outputs": [
    {
     "name": "stdout",
     "output_type": "stream",
     "text": [
      "Line1: This is the first line -> This Is The First Line\n",
      "\n",
      "Line2: This is the second line -> This Is The Second Line\n",
      "\n",
      "Line3: This is the third line -> This Is The Third Line\n",
      "\n"
     ]
    }
   ],
   "source": [
    "L = [\"This is the first line\\n\", \"This is the second line\\n\", \"This is the third line\\n\"] \n",
    "# writing the file\n",
    "file1 = open('MyFirstFile.txt', 'w')\n",
    "file1.writelines(L)\n",
    "file1.close()\n",
    " \n",
    "# Using readlines()\n",
    "file1 = open('MyFirstFile.txt', 'r')\n",
    "lines = file1.readlines()\n",
    "\n",
    "file2 = open('MyTitleizedFile.txt', 'w')\n",
    "\n",
    "# Strips the newline character\n",
    "count = 0\n",
    "for line in lines:\n",
    "    count += 1\n",
    "    print(f\"Line{count}: {line.strip()} -> {line.title()}\")\n",
    "    \n",
    "    file2.write(line.title())\n",
    "    \n",
    "file1.close()\n",
    "file2.close()\n"
   ]
  },
  {
   "cell_type": "markdown",
   "metadata": {},
   "source": [
    "# Numpy"
   ]
  },
  {
   "cell_type": "markdown",
   "metadata": {},
   "source": [
    "## 1. Given a list, find the average using a numpy function. "
   ]
  },
  {
   "cell_type": "code",
   "execution_count": 93,
   "metadata": {},
   "outputs": [
    {
     "data": {
      "text/plain": [
       "3.375"
      ]
     },
     "execution_count": 93,
     "metadata": {},
     "output_type": "execute_result"
    }
   ],
   "source": [
    "simple_list = [1,2,1,4,3,2,5,9]\n",
    "sum_simple = sum(simple_list)\n",
    "len_simple = len(simple_list)\n",
    "sum_simple/len_simple"
   ]
  },
  {
   "cell_type": "markdown",
   "metadata": {},
   "source": [
    "## 2. Given two lists of Heights and Weights of individual, calculate the BMI of those individuals, without writing a `for-loop`"
   ]
  },
  {
   "cell_type": "code",
   "execution_count": 116,
   "metadata": {},
   "outputs": [
    {
     "name": "stdout",
     "output_type": "stream",
     "text": [
      "[29.06592681 27.73229978 30.73941662 24.16326531 26.33288875]\n"
     ]
    }
   ],
   "source": [
    "heights = [174, 173, 173, 175, 171]\n",
    "weights = [88, 83, 92, 74, 77]\n",
    "squared = [2,2,2,2,2]\n",
    "squared_heights = np.square(heights)\n",
    "weights1= np.asarray(weights)\n",
    "BMI = weights1/squared_heights\n",
    "BMI= BMI*10000\n",
    "print(BMI)"
   ]
  },
  {
   "cell_type": "markdown",
   "metadata": {},
   "source": [
    "## 3. Create an array of length 20 filled with random values (between 0 to 1) "
   ]
  },
  {
   "cell_type": "code",
   "execution_count": 124,
   "metadata": {},
   "outputs": [
    {
     "data": {
      "text/plain": [
       "array([[0.69992783, 0.18901472, 0.64403806, 0.21645222],\n",
       "       [0.22908304, 0.50950693, 0.76099782, 0.57583187],\n",
       "       [0.74140372, 0.34497018, 0.20857126, 0.5401665 ],\n",
       "       [0.13161211, 0.04135664, 0.33565097, 0.90204753],\n",
       "       [0.09729381, 0.92121817, 0.47051615, 0.55291566]])"
      ]
     },
     "execution_count": 124,
     "metadata": {},
     "output_type": "execute_result"
    }
   ],
   "source": [
    "np.random.rand(5,4)"
   ]
  },
  {
   "cell_type": "markdown",
   "metadata": {},
   "source": [
    "## 4. Create an array with at least 1000 random numbers from normal distributions (normal). Then, plot a histogram of these values (`plt.hist`).\n"
   ]
  },
  {
   "cell_type": "code",
   "execution_count": 218,
   "metadata": {},
   "outputs": [
    {
     "ename": "ValueError",
     "evalue": "too many values to unpack (expected 2)",
     "output_type": "error",
     "traceback": [
      "\u001b[0;31m---------------------------------------------------------------------------\u001b[0m",
      "\u001b[0;31mValueError\u001b[0m                                Traceback (most recent call last)",
      "Cell \u001b[0;32mIn[218], line 3\u001b[0m\n\u001b[1;32m      1\u001b[0m values \u001b[38;5;241m=\u001b[39m np\u001b[38;5;241m.\u001b[39mrandom\u001b[38;5;241m.\u001b[39mrandn(\u001b[38;5;241m10\u001b[39m,\u001b[38;5;241m100\u001b[39m)\n\u001b[1;32m      2\u001b[0m \u001b[38;5;28mtype\u001b[39m(values)\n\u001b[0;32m----> 3\u001b[0m fig, ax \u001b[38;5;241m=\u001b[39m plt\u001b[38;5;241m.\u001b[39mhist(values)\n",
      "\u001b[0;31mValueError\u001b[0m: too many values to unpack (expected 2)"
     ]
    },
    {
     "data": {
      "image/png": "[encoded data removed]",
      "text/plain": [
       "<Figure size 640x480 with 1 Axes>"
      ]
     },
     "metadata": {},
     "output_type": "display_data"
    }
   ],
   "source": [
    "values = np.random.randn(10,100)\n",
    "type(values)\n",
    "fig, ax = plt.hist(values)"
   ]
  },
  {
   "cell_type": "markdown",
   "metadata": {},
   "source": [
    "# Pandas"
   ]
  },
  {
   "cell_type": "markdown",
   "metadata": {},
   "source": [
    "## 1. Read in a CSV () and display all the columns and their respective data types "
   ]
  },
  {
   "cell_type": "code",
   "execution_count": 138,
   "metadata": {},
   "outputs": [
    {
     "data": {
      "text/plain": [
       "Index(['id', 'sex', 'weight', 'height'], dtype='object')"
      ]
     },
     "execution_count": 138,
     "metadata": {},
     "output_type": "execute_result"
    }
   ],
   "source": [
    "#reading csv\n",
    "df = pd.read_csv(\"hw_data.csv\")\n",
    "df.columns"
   ]
  },
  {
   "cell_type": "code",
   "execution_count": 140,
   "metadata": {},
   "outputs": [
    {
     "data": {
      "text/plain": [
       "id         int64\n",
       "sex       object\n",
       "weight     int64\n",
       "height     int64\n",
       "dtype: object"
      ]
     },
     "execution_count": 140,
     "metadata": {},
     "output_type": "execute_result"
    }
   ],
   "source": [
    "# viewing columns respective types \n",
    "df.dtypes"
   ]
  },
  {
   "cell_type": "markdown",
   "metadata": {},
   "source": [
    "## 2. Find the average weight "
   ]
  },
  {
   "cell_type": "code",
   "execution_count": 141,
   "metadata": {},
   "outputs": [
    {
     "name": "stdout",
     "output_type": "stream",
     "text": [
      "The average of column 'weight' is :\n",
      "135.71428571428572\n"
     ]
    }
   ],
   "source": [
    "print(\"The average of column 'weight' is :\")\n",
    "print(df['weight'].mean())"
   ]
  },
  {
   "cell_type": "markdown",
   "metadata": {},
   "source": [
    "## 3. Find the Value Counts on column `sex` "
   ]
  },
  {
   "cell_type": "code",
   "execution_count": 145,
   "metadata": {},
   "outputs": [
    {
     "name": "stdout",
     "output_type": "stream",
     "text": [
      "M    3\n",
      "F    3\n",
      "O    1\n",
      "Name: sex, dtype: int64\n"
     ]
    }
   ],
   "source": [
    "print(df['sex'].value_counts())"
   ]
  },
  {
   "cell_type": "markdown",
   "metadata": {},
   "source": [
    "## 4. Plot Height vs. Weight "
   ]
  },
  {
   "cell_type": "code",
   "execution_count": 147,
   "metadata": {},
   "outputs": [
    {
     "data": {
      "image/png": "[encoded data removed]",
      "text/plain": [
       "<Figure size 640x480 with 1 Axes>"
      ]
     },
     "metadata": {},
     "output_type": "display_data"
    }
   ],
   "source": [
    "scatterplot = df.plot.scatter(x='height',\n",
    "                      y='weight')"
   ]
  },
  {
   "cell_type": "markdown",
   "metadata": {},
   "source": [
    "## 5. Calculate BMI and save as a new column"
   ]
  },
  {
   "cell_type": "code",
   "execution_count": 168,
   "metadata": {},
   "outputs": [
    {
     "name": "stdout",
     "output_type": "stream",
     "text": [
      "   id sex  weight  height  Body mass index\n",
      "0   1   M     190      77        32.045876\n",
      "1   2   F     120      70        24.489796\n",
      "2   3   F     110      68        23.788927\n",
      "3   4   M     150      72        28.935185\n",
      "4   5   O     120      66        27.548209\n",
      "5   6   M     120      60        33.333333\n",
      "6   7   F     140      70        28.571429\n"
     ]
    }
   ],
   "source": [
    "height_squared = df['height']**2\n",
    "Body_mass_index = df['weight']/height_squared\n",
    "Body_mass_index = Body_mass_index*1000\n",
    "df['Body mass index'] = Body_mass_index\n",
    "print(df)"
   ]
  },
  {
   "cell_type": "markdown",
   "metadata": {},
   "source": [
    "## 6. Save sheet as a new CSV file `hw_dataB.csv`"
   ]
  },
  {
   "cell_type": "code",
   "execution_count": 171,
   "metadata": {},
   "outputs": [],
   "source": [
    "df.to_csv('hw_dataB.csv')"
   ]
  },
  {
   "cell_type": "markdown",
   "metadata": {},
   "source": [
    "## Run the following (Mac)"
   ]
  },
  {
   "cell_type": "code",
   "execution_count": 172,
   "metadata": {},
   "outputs": [
    {
     "name": "stdout",
     "output_type": "stream",
     "text": [
      ",id,sex,weight,height,Body mass index\r\n",
      "0,1,M,190,77,32.045876201720354\r\n",
      "1,2,F,120,70,24.489795918367346\r\n",
      "2,3,F,110,68,23.78892733564014\r\n",
      "3,4,M,150,72,28.935185185185187\r\n",
      "4,5,O,120,66,27.548209366391184\r\n",
      "5,6,M,120,60,33.333333333333336\r\n",
      "6,7,F,140,70,28.57142857142857\r\n"
     ]
    }
   ],
   "source": [
    "!cat hw_dataB.csv"
   ]
  },
  {
   "cell_type": "markdown",
   "metadata": {},
   "source": [
    "## Run the following (Windows) "
   ]
  },
  {
   "cell_type": "code",
   "execution_count": null,
   "metadata": {},
   "outputs": [],
   "source": [
    "!type hw_dataB.csv"
   ]
  }
 ],
 "metadata": {
  "kernelspec": {
   "display_name": "Python 3 (ipykernel)",
   "language": "python",
   "name": "python3"
  },
  "language_info": {
   "codemirror_mode": {
    "name": "ipython",
    "version": 3
   },
   "file_extension": ".py",
   "mimetype": "text/x-python",
   "name": "python",
   "nbconvert_exporter": "python",
   "pygments_lexer": "ipython3",
   "version": "3.10.9"
  }
 },
 "nbformat": 4,
 "nbformat_minor": 1
}
